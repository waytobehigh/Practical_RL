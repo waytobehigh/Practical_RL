{
 "cells": [
  {
   "cell_type": "markdown",
   "metadata": {},
   "source": [
    "# Approximate q-learning\n",
    "\n",
    "In this notebook you will teach a __pytorch__ neural network to do Q-learning."
   ]
  },
  {
   "cell_type": "code",
   "execution_count": 1,
   "metadata": {},
   "outputs": [],
   "source": [
    "# # in google colab uncomment this\n",
    "\n",
    "# import os\n",
    "\n",
    "# os.system('apt-get install -y xvfb')\n",
    "# os.system('wget https://raw.githubusercontent.com/yandexdataschool/Practical_DL/fall18/xvfb -O ../xvfb')\n",
    "# os.system('apt-get install -y python-opengl ffmpeg')\n",
    "# os.system('pip install pyglet==1.2.4')\n",
    "\n",
    "# XVFB will be launched if you run on a server\n",
    "import os\n",
    "if type(os.environ.get(\"DISPLAY\")) is not str or len(os.environ.get(\"DISPLAY\")) == 0:\n",
    "    !bash ../xvfb start\n",
    "    %env DISPLAY = : 1"
   ]
  },
  {
   "cell_type": "code",
   "execution_count": 2,
   "metadata": {},
   "outputs": [],
   "source": [
    "import gym\n",
    "import numpy as np\n",
    "import pandas as pd\n",
    "import matplotlib.pyplot as plt\n",
    "%matplotlib inline"
   ]
  },
  {
   "cell_type": "code",
   "execution_count": 3,
   "metadata": {
    "scrolled": false
   },
   "outputs": [
    {
     "data": {
      "image/png": "[encoded data removed]",
      "text/plain": [
       "<matplotlib.figure.Figure at 0x11d5489e8>"
      ]
     },
     "metadata": {},
     "output_type": "display_data"
    }
   ],
   "source": [
    "env = gym.make(\"CartPole-v0\").env\n",
    "env.reset()\n",
    "n_actions = env.action_space.n\n",
    "state_dim = env.observation_space.shape\n",
    "\n",
    "plt.imshow(env.render(\"rgb_array\"))\n",
    "env.close()"
   ]
  },
  {
   "cell_type": "markdown",
   "metadata": {},
   "source": [
    "# Approximate Q-learning: building the network\n",
    "\n",
    "To train a neural network policy one must have a neural network policy. Let's build it.\n",
    "\n",
    "\n",
    "Since we're working with a pre-extracted features (cart positions, angles and velocities), we don't need a complicated network yet. In fact, let's build something like this for starters:\n",
    "\n",
    "![img](https://raw.githubusercontent.com/yandexdataschool/Practical_RL/spring19/yet_another_week/_resource/qlearning_scheme.png)\n",
    "\n",
    "For your first run, please only use linear layers (nn.Linear) and activations. Stuff like batch normalization or dropout may ruin everything if used haphazardly. \n",
    "\n",
    "Also please avoid using nonlinearities like sigmoid & tanh: agent's observations are not normalized so sigmoids may become saturated from init.\n",
    "\n",
    "Ideally you should start small with maybe 1-2 hidden layers with < 200 neurons and then increase network size if agent doesn't beat the target score."
   ]
  },
  {
   "cell_type": "code",
   "execution_count": 4,
   "metadata": {},
   "outputs": [],
   "source": [
    "import torch\n",
    "import torch.nn as nn\n",
    "import torch.nn.functional as F"
   ]
  },
  {
   "cell_type": "code",
   "execution_count": 5,
   "metadata": {},
   "outputs": [],
   "source": [
    "network = nn.Sequential()\n",
    "\n",
    "network.add_module('dense1', nn.Linear(state_dim[0], 100))\n",
    "network.add_module('relu1', nn.ReLU(True))\n",
    "network.add_module('dense2', nn.Linear(100, n_actions))\n",
    "\n",
    "# hint: use state_dim[0] as input size"
   ]
  },
  {
   "cell_type": "code",
   "execution_count": 6,
   "metadata": {},
   "outputs": [],
   "source": [
    "def get_action(state, epsilon=0):\n",
    "    \"\"\"\n",
    "    sample actions with epsilon-greedy policy\n",
    "    recap: with p = epsilon pick random action, else pick action with highest Q(s,a)\n",
    "    \"\"\"\n",
    "    state = torch.tensor(state[None], dtype=torch.float32)\n",
    "    q_values = network(state).detach().numpy()\n",
    "\n",
    "    if np.random.binomial(1, epsilon):\n",
    "        selected_action = np.random.choice(np.arange(n_actions))\n",
    "    else:\n",
    "        selected_action = np.argmax(q_values)\n",
    "\n",
    "    return int(selected_action)"
   ]
  },
  {
   "cell_type": "code",
   "execution_count": 7,
   "metadata": {},
   "outputs": [
    {
     "name": "stdout",
     "output_type": "stream",
     "text": [
      "e=0.0 tests passed\n",
      "e=0.1 tests passed\n",
      "e=0.5 tests passed\n",
      "e=1.0 tests passed\n"
     ]
    }
   ],
   "source": [
    "s = env.reset()\n",
    "assert tuple(network(torch.tensor([s]*3, dtype=torch.float32)).size()) == (\n",
    "    3, n_actions), \"please make sure your model maps state s -> [Q(s,a0), ..., Q(s, a_last)]\"\n",
    "assert isinstance(list(network.modules(\n",
    "))[-1], nn.Linear), \"please make sure you predict q-values without nonlinearity (ignore if you know what you're doing)\"\n",
    "assert isinstance(get_action(\n",
    "    s), int), \"get_action(s) must return int, not %s. try int(action)\" % (type(get_action(s)))\n",
    "\n",
    "# test epsilon-greedy exploration\n",
    "for eps in [0., 0.1, 0.5, 1.0]:\n",
    "    state_frequencies = np.bincount(\n",
    "        [get_action(s, epsilon=eps) for i in range(10000)], minlength=n_actions)\n",
    "    best_action = state_frequencies.argmax()\n",
    "    assert abs(state_frequencies[best_action] -\n",
    "               10000 * (1 - eps + eps / n_actions)) < 200\n",
    "    for other_action in range(n_actions):\n",
    "        if other_action != best_action:\n",
    "            assert abs(state_frequencies[other_action] -\n",
    "                       10000 * (eps / n_actions)) < 200\n",
    "    print('e=%.1f tests passed' % eps)"
   ]
  },
  {
   "cell_type": "markdown",
   "metadata": {},
   "source": [
    "### Q-learning via gradient descent\n",
    "\n",
    "We shall now train our agent's Q-function by minimizing the TD loss:\n",
    "$$ L = { 1 \\over N} \\sum_i (Q_{\\theta}(s,a) - [r(s,a) + \\gamma \\cdot max_{a'} Q_{-}(s', a')]) ^2 $$\n",
    "\n",
    "\n",
    "Where\n",
    "* $s, a, r, s'$ are current state, action, reward and next state respectively\n",
    "* $\\gamma$ is a discount factor defined two cells above.\n",
    "\n",
    "The tricky part is with  $Q_{-}(s',a')$. From an engineering standpoint, it's the same as $Q_{\\theta}$ - the output of your neural network policy. However, when doing gradient descent, __we won't propagate gradients through it__ to make training more stable (see lectures).\n",
    "\n",
    "To do so, we shall use `x.detach()` function which basically says \"consider this thing constant when doingbackprop\"."
   ]
  },
  {
   "cell_type": "code",
   "execution_count": 8,
   "metadata": {},
   "outputs": [],
   "source": [
    "def to_one_hot(y_tensor, n_dims=None):\n",
    "    \"\"\" helper: take an integer vector and convert it to 1-hot matrix. \"\"\"\n",
    "    y_tensor = y_tensor.type(torch.LongTensor).view(-1, 1)\n",
    "    n_dims = n_dims if n_dims is not None else int(torch.max(y_tensor)) + 1\n",
    "    y_one_hot = torch.zeros(\n",
    "        y_tensor.size()[0], n_dims).scatter_(1, y_tensor, 1)\n",
    "    return y_one_hot\n",
    "\n",
    "\n",
    "def where(cond, x_1, x_2):\n",
    "    \"\"\" helper: like np.where but in pytorch. \"\"\"\n",
    "    return (cond * x_1) + ((1-cond) * x_2)"
   ]
  },
  {
   "cell_type": "code",
   "execution_count": 9,
   "metadata": {},
   "outputs": [],
   "source": [
    "def compute_td_loss(states, actions, rewards, next_states, is_done, gamma=0.99, check_shapes=False):\n",
    "    \"\"\" Compute td loss using torch operations only. Use the formula above. \"\"\"\n",
    "    states = torch.tensor(\n",
    "        states, dtype=torch.float32)    # shape: [batch_size, state_size]\n",
    "    actions = torch.tensor(actions, dtype=torch.int32)    # shape: [batch_size]\n",
    "    rewards = torch.tensor(rewards, dtype=torch.float32)  # shape: [batch_size]\n",
    "    # shape: [batch_size, state_size]\n",
    "    next_states = torch.tensor(next_states, dtype=torch.float32)\n",
    "    is_done = torch.tensor(is_done, dtype=torch.float32)  # shape: [batch_size]\n",
    "\n",
    "    # get q-values for all actions in current states\n",
    "    predicted_qvalues = network(states)\n",
    "\n",
    "    # select q-values for chosen actions\n",
    "    predicted_qvalues_for_actions = torch.sum(\n",
    "        predicted_qvalues * to_one_hot(actions, n_actions), dim=1)\n",
    "\n",
    "    # compute q-values for all actions in next states\n",
    "    predicted_next_qvalues =  network(next_states)\n",
    "\n",
    "    # compute V*(next_states) using predicted next q-values\n",
    "    next_state_values = torch.max(predicted_next_qvalues, 1)[0]\n",
    "    assert next_state_values.dtype == torch.float32\n",
    "\n",
    "    # compute \"target q-values\" for loss - it's what's inside square parentheses in the above formula.\n",
    "    target_qvalues_for_actions = rewards + gamma * next_state_values\n",
    "\n",
    "    # at the last state we shall use simplified formula: Q(s,a) = r(s,a) since s' doesn't exist\n",
    "    target_qvalues_for_actions = where(\n",
    "        is_done, rewards, target_qvalues_for_actions)\n",
    "\n",
    "    # mean squared error loss to minimize\n",
    "    loss = torch.mean((predicted_qvalues_for_actions -\n",
    "                       target_qvalues_for_actions.detach()) ** 2)\n",
    "\n",
    "    if check_shapes:\n",
    "        assert predicted_next_qvalues.data.dim(\n",
    "        ) == 2, \"make sure you predicted q-values for all actions in next state\"\n",
    "        assert next_state_values.data.dim(\n",
    "        ) == 1, \"make sure you computed V(s') as maximum over just the actions axis and not all axes\"\n",
    "        assert target_qvalues_for_actions.data.dim(\n",
    "        ) == 1, \"there's something wrong with target q-values, they must be a vector\"\n",
    "\n",
    "    return loss"
   ]
  },
  {
   "cell_type": "code",
   "execution_count": 10,
   "metadata": {},
   "outputs": [],
   "source": [
    "# sanity checks\n",
    "s = env.reset()\n",
    "a = env.action_space.sample()\n",
    "next_s, r, done, _ = env.step(a)\n",
    "loss = compute_td_loss([s], [a], [r], [next_s], [done], check_shapes=True)\n",
    "loss.backward()\n",
    "\n",
    "assert len(loss.size()) == 0, \"you must return scalar loss - mean over batch\"\n",
    "assert np.any(next(network.parameters()).grad.detach().numpy() !=\n",
    "              0), \"loss must be differentiable w.r.t. network weights\""
   ]
  },
  {
   "cell_type": "markdown",
   "metadata": {},
   "source": [
    "### Playing the game"
   ]
  },
  {
   "cell_type": "code",
   "execution_count": 11,
   "metadata": {},
   "outputs": [],
   "source": [
    "opt = torch.optim.Adam(network.parameters(), lr=1e-4)\n",
    "epsilon = 0.5"
   ]
  },
  {
   "cell_type": "code",
   "execution_count": 12,
   "metadata": {},
   "outputs": [],
   "source": [
    "def generate_session(t_max=1000, epsilon=0, train=False):\n",
    "    \"\"\"play env with approximate q-learning agent and train it at the same time\"\"\"\n",
    "    total_reward = 0\n",
    "    s = env.reset()\n",
    "\n",
    "    for t in range(t_max):\n",
    "        a = get_action(s, epsilon=epsilon)\n",
    "        next_s, r, done, _ = env.step(a)\n",
    "\n",
    "        if train:\n",
    "            opt.zero_grad()\n",
    "            compute_td_loss([s], [a], [r], [next_s], [done]).backward()\n",
    "            opt.step()\n",
    "\n",
    "        total_reward += r\n",
    "        s = next_s\n",
    "        if done:\n",
    "            break\n",
    "\n",
    "    return total_reward"
   ]
  },
  {
   "cell_type": "code",
   "execution_count": 13,
   "metadata": {
    "scrolled": true
   },
   "outputs": [
    {
     "name": "stdout",
     "output_type": "stream",
     "text": [
      "epoch #0\tmean reward = 13.500\tepsilon = 0.500\n",
      "epoch #1\tmean reward = 13.060\tepsilon = 0.495\n",
      "epoch #2\tmean reward = 14.560\tepsilon = 0.490\n",
      "epoch #3\tmean reward = 13.920\tepsilon = 0.485\n",
      "epoch #4\tmean reward = 13.760\tepsilon = 0.480\n",
      "epoch #5\tmean reward = 13.720\tepsilon = 0.475\n",
      "epoch #6\tmean reward = 12.940\tepsilon = 0.471\n",
      "epoch #7\tmean reward = 13.390\tepsilon = 0.466\n",
      "epoch #8\tmean reward = 15.190\tepsilon = 0.461\n",
      "epoch #9\tmean reward = 14.290\tepsilon = 0.457\n",
      "epoch #10\tmean reward = 18.780\tepsilon = 0.452\n",
      "epoch #11\tmean reward = 21.960\tepsilon = 0.448\n",
      "epoch #12\tmean reward = 12.820\tepsilon = 0.443\n",
      "epoch #13\tmean reward = 12.550\tepsilon = 0.439\n",
      "epoch #14\tmean reward = 13.430\tepsilon = 0.434\n",
      "epoch #15\tmean reward = 14.480\tepsilon = 0.430\n",
      "epoch #16\tmean reward = 12.710\tepsilon = 0.426\n",
      "epoch #17\tmean reward = 12.940\tepsilon = 0.421\n",
      "epoch #18\tmean reward = 12.310\tepsilon = 0.417\n",
      "epoch #19\tmean reward = 12.030\tepsilon = 0.413\n",
      "epoch #20\tmean reward = 14.880\tepsilon = 0.409\n",
      "epoch #21\tmean reward = 12.760\tepsilon = 0.405\n",
      "epoch #22\tmean reward = 11.820\tepsilon = 0.401\n",
      "epoch #23\tmean reward = 17.640\tepsilon = 0.397\n",
      "epoch #24\tmean reward = 12.330\tepsilon = 0.393\n",
      "epoch #25\tmean reward = 12.000\tepsilon = 0.389\n",
      "epoch #26\tmean reward = 15.330\tepsilon = 0.385\n",
      "epoch #27\tmean reward = 13.070\tepsilon = 0.381\n",
      "epoch #28\tmean reward = 24.580\tepsilon = 0.377\n",
      "epoch #29\tmean reward = 28.450\tepsilon = 0.374\n",
      "epoch #30\tmean reward = 18.110\tepsilon = 0.370\n",
      "epoch #31\tmean reward = 19.840\tepsilon = 0.366\n",
      "epoch #32\tmean reward = 18.020\tepsilon = 0.362\n",
      "epoch #33\tmean reward = 28.480\tepsilon = 0.359\n",
      "epoch #34\tmean reward = 36.230\tepsilon = 0.355\n",
      "epoch #35\tmean reward = 23.600\tepsilon = 0.352\n",
      "epoch #36\tmean reward = 34.680\tepsilon = 0.348\n",
      "epoch #37\tmean reward = 31.100\tepsilon = 0.345\n",
      "epoch #38\tmean reward = 37.730\tepsilon = 0.341\n",
      "epoch #39\tmean reward = 37.710\tepsilon = 0.338\n",
      "epoch #40\tmean reward = 37.660\tepsilon = 0.334\n",
      "epoch #41\tmean reward = 30.200\tepsilon = 0.331\n",
      "epoch #42\tmean reward = 38.370\tepsilon = 0.328\n",
      "epoch #43\tmean reward = 39.360\tepsilon = 0.325\n",
      "epoch #44\tmean reward = 42.370\tepsilon = 0.321\n",
      "epoch #45\tmean reward = 42.810\tepsilon = 0.318\n",
      "epoch #46\tmean reward = 41.650\tepsilon = 0.315\n",
      "epoch #47\tmean reward = 42.230\tepsilon = 0.312\n",
      "epoch #48\tmean reward = 43.150\tepsilon = 0.309\n",
      "epoch #49\tmean reward = 41.240\tepsilon = 0.306\n",
      "epoch #50\tmean reward = 52.010\tepsilon = 0.303\n",
      "epoch #51\tmean reward = 53.670\tepsilon = 0.299\n",
      "epoch #52\tmean reward = 58.570\tepsilon = 0.296\n",
      "epoch #53\tmean reward = 46.220\tepsilon = 0.294\n",
      "epoch #54\tmean reward = 58.870\tepsilon = 0.291\n",
      "epoch #55\tmean reward = 56.310\tepsilon = 0.288\n",
      "epoch #56\tmean reward = 109.430\tepsilon = 0.285\n",
      "epoch #57\tmean reward = 154.050\tepsilon = 0.282\n",
      "epoch #58\tmean reward = 54.330\tepsilon = 0.279\n",
      "epoch #59\tmean reward = 11.850\tepsilon = 0.276\n",
      "epoch #60\tmean reward = 27.430\tepsilon = 0.274\n",
      "epoch #61\tmean reward = 13.300\tepsilon = 0.271\n",
      "epoch #62\tmean reward = 147.680\tepsilon = 0.268\n",
      "epoch #63\tmean reward = 80.520\tepsilon = 0.265\n",
      "epoch #64\tmean reward = 125.110\tepsilon = 0.263\n",
      "epoch #65\tmean reward = 150.740\tepsilon = 0.260\n",
      "epoch #66\tmean reward = 14.880\tepsilon = 0.258\n",
      "epoch #67\tmean reward = 100.860\tepsilon = 0.255\n",
      "epoch #68\tmean reward = 121.400\tepsilon = 0.252\n",
      "epoch #69\tmean reward = 142.900\tepsilon = 0.250\n",
      "epoch #70\tmean reward = 132.000\tepsilon = 0.247\n",
      "epoch #71\tmean reward = 89.720\tepsilon = 0.245\n",
      "epoch #72\tmean reward = 140.700\tepsilon = 0.242\n",
      "epoch #73\tmean reward = 135.690\tepsilon = 0.240\n",
      "epoch #74\tmean reward = 135.910\tepsilon = 0.238\n",
      "epoch #75\tmean reward = 165.800\tepsilon = 0.235\n",
      "epoch #76\tmean reward = 172.830\tepsilon = 0.233\n",
      "epoch #77\tmean reward = 147.060\tepsilon = 0.231\n",
      "epoch #78\tmean reward = 118.300\tepsilon = 0.228\n",
      "epoch #79\tmean reward = 113.390\tepsilon = 0.226\n",
      "epoch #80\tmean reward = 123.170\tepsilon = 0.224\n",
      "epoch #81\tmean reward = 92.920\tepsilon = 0.222\n",
      "epoch #82\tmean reward = 94.660\tepsilon = 0.219\n",
      "epoch #83\tmean reward = 107.540\tepsilon = 0.217\n",
      "epoch #84\tmean reward = 105.450\tepsilon = 0.215\n",
      "epoch #85\tmean reward = 92.180\tepsilon = 0.213\n",
      "epoch #86\tmean reward = 77.940\tepsilon = 0.211\n",
      "epoch #87\tmean reward = 61.400\tepsilon = 0.209\n",
      "epoch #88\tmean reward = 37.540\tepsilon = 0.206\n",
      "epoch #89\tmean reward = 39.280\tepsilon = 0.204\n",
      "epoch #90\tmean reward = 43.300\tepsilon = 0.202\n",
      "epoch #91\tmean reward = 85.030\tepsilon = 0.200\n",
      "epoch #92\tmean reward = 96.770\tepsilon = 0.198\n",
      "epoch #93\tmean reward = 109.960\tepsilon = 0.196\n",
      "epoch #94\tmean reward = 111.800\tepsilon = 0.194\n",
      "epoch #95\tmean reward = 173.810\tepsilon = 0.192\n",
      "epoch #96\tmean reward = 139.960\tepsilon = 0.191\n",
      "epoch #97\tmean reward = 31.670\tepsilon = 0.189\n",
      "epoch #98\tmean reward = 26.260\tepsilon = 0.187\n",
      "epoch #99\tmean reward = 217.360\tepsilon = 0.185\n",
      "epoch #100\tmean reward = 176.830\tepsilon = 0.183\n",
      "epoch #101\tmean reward = 124.400\tepsilon = 0.181\n",
      "epoch #102\tmean reward = 115.040\tepsilon = 0.179\n",
      "epoch #103\tmean reward = 251.120\tepsilon = 0.178\n",
      "epoch #104\tmean reward = 154.330\tepsilon = 0.176\n",
      "epoch #105\tmean reward = 230.450\tepsilon = 0.174\n",
      "epoch #106\tmean reward = 105.410\tepsilon = 0.172\n",
      "epoch #107\tmean reward = 224.020\tepsilon = 0.171\n",
      "epoch #108\tmean reward = 146.940\tepsilon = 0.169\n",
      "epoch #109\tmean reward = 198.870\tepsilon = 0.167\n",
      "epoch #110\tmean reward = 203.030\tepsilon = 0.166\n",
      "epoch #111\tmean reward = 141.810\tepsilon = 0.164\n",
      "epoch #112\tmean reward = 180.260\tepsilon = 0.162\n",
      "epoch #113\tmean reward = 213.420\tepsilon = 0.161\n",
      "epoch #114\tmean reward = 213.990\tepsilon = 0.159\n",
      "epoch #115\tmean reward = 134.320\tepsilon = 0.157\n",
      "epoch #116\tmean reward = 166.980\tepsilon = 0.156\n",
      "epoch #117\tmean reward = 172.820\tepsilon = 0.154\n",
      "epoch #118\tmean reward = 114.730\tepsilon = 0.153\n",
      "epoch #119\tmean reward = 104.040\tepsilon = 0.151\n",
      "epoch #120\tmean reward = 76.410\tepsilon = 0.150\n",
      "epoch #121\tmean reward = 33.370\tepsilon = 0.148\n",
      "epoch #122\tmean reward = 49.030\tepsilon = 0.147\n",
      "epoch #123\tmean reward = 170.280\tepsilon = 0.145\n",
      "epoch #124\tmean reward = 166.850\tepsilon = 0.144\n",
      "epoch #125\tmean reward = 56.960\tepsilon = 0.142\n",
      "epoch #126\tmean reward = 145.480\tepsilon = 0.141\n",
      "epoch #127\tmean reward = 140.340\tepsilon = 0.140\n",
      "epoch #128\tmean reward = 22.560\tepsilon = 0.138\n",
      "epoch #129\tmean reward = 116.520\tepsilon = 0.137\n",
      "epoch #130\tmean reward = 193.650\tepsilon = 0.135\n",
      "epoch #131\tmean reward = 223.310\tepsilon = 0.134\n",
      "epoch #132\tmean reward = 206.600\tepsilon = 0.133\n",
      "epoch #133\tmean reward = 54.290\tepsilon = 0.131\n",
      "epoch #134\tmean reward = 65.120\tepsilon = 0.130\n",
      "epoch #135\tmean reward = 322.110\tepsilon = 0.129\n",
      "You Win!\n"
     ]
    }
   ],
   "source": [
    "for i in range(1000):\n",
    "    session_rewards = [generate_session(\n",
    "        epsilon=epsilon, train=True) for _ in range(100)]\n",
    "    print(\"epoch #{}\\tmean reward = {:.3f}\\tepsilon = {:.3f}\".format(\n",
    "        i, np.mean(session_rewards), epsilon))\n",
    "\n",
    "    epsilon *= 0.99\n",
    "    assert epsilon >= 1e-4, \"Make sure epsilon is always nonzero during training\"\n",
    "\n",
    "    if np.mean(session_rewards) > 300:\n",
    "        print(\"You Win!\")\n",
    "        break"
   ]
  },
  {
   "cell_type": "markdown",
   "metadata": {},
   "source": [
    "### How to interpret results\n",
    "\n",
    "\n",
    "Welcome to the f.. world of deep f...n reinforcement learning. Don't expect agent's reward to smoothly go up. Hope for it to go increase eventually. If it deems you worthy.\n",
    "\n",
    "Seriously though,\n",
    "* __ mean reward__ is the average reward per game. For a correct implementation it may stay low for some 10 epochs, then start growing while oscilating insanely and converges by ~50-100 steps depending on the network architecture. \n",
    "* If it never reaches target score by the end of for loop, try increasing the number of hidden neurons or look at the epsilon.\n",
    "* __ epsilon__ - agent's willingness to explore. If you see that agent's already at < 0.01 epsilon before it's is at least 200, just reset it back to 0.1 - 0.5."
   ]
  },
  {
   "cell_type": "markdown",
   "metadata": {},
   "source": [
    "### Record videos\n",
    "\n",
    "As usual, we now use `gym.wrappers.Monitor` to record a video of our agent playing the game. Unlike our previous attempts with state binarization, this time we expect our agent to act ~~(or fail)~~ more smoothly since there's no more binarization error at play.\n",
    "\n",
    "As you already did with tabular q-learning, we set epsilon=0 for final evaluation to prevent agent from exploring himself to death."
   ]
  },
  {
   "cell_type": "code",
   "execution_count": 14,
   "metadata": {
    "scrolled": true
   },
   "outputs": [],
   "source": [
    "# record sessions\n",
    "import gym.wrappers\n",
    "env = gym.wrappers.Monitor(gym.make(\"CartPole-v0\"),\n",
    "                           directory=\"videos\", force=True)\n",
    "sessions = [generate_session(epsilon=0, train=False) for _ in range(100)]\n",
    "env.close()"
   ]
  },
  {
   "cell_type": "code",
   "execution_count": 15,
   "metadata": {},
   "outputs": [
    {
     "data": {
      "text/html": [
       "\n",
       "<video width=\"640\" height=\"480\" controls>\n",
       "  <source src=\"./videos/openaigym.video.0.15269.video000008.mp4\" type=\"video/mp4\">\n",
       "</video>\n"
      ],
      "text/plain": [
       "<IPython.core.display.HTML object>"
      ]
     },
     "execution_count": 15,
     "metadata": {},
     "output_type": "execute_result"
    }
   ],
   "source": [
    "# show video\n",
    "from IPython.display import HTML\n",
    "import os\n",
    "\n",
    "video_names = list(\n",
    "    filter(lambda s: s.endswith(\".mp4\"), os.listdir(\"./videos/\")))\n",
    "\n",
    "HTML(\"\"\"\n",
    "<video width=\"640\" height=\"480\" controls>\n",
    "  <source src=\"{}\" type=\"video/mp4\">\n",
    "</video>\n",
    "\"\"\".format(\"./videos/\"+video_names[-1]))  # this may or may not be _last_ video. Try other indices"
   ]
  },
  {
   "cell_type": "code",
   "execution_count": null,
   "metadata": {},
   "outputs": [],
   "source": []
  }
 ],
 "metadata": {
  "anaconda-cloud": {},
  "kernelspec": {
   "display_name": "Python 3",
   "language": "python",
   "name": "python3"
  },
  "language_info": {
   "codemirror_mode": {
    "name": "ipython",
    "version": 3
   },
   "file_extension": ".py",
   "mimetype": "text/x-python",
   "name": "python",
   "nbconvert_exporter": "python",
   "pygments_lexer": "ipython3",
   "version": "3.6.6"
  }
 },
 "nbformat": 4,
 "nbformat_minor": 1
}
